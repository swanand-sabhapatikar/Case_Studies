{
  "nbformat": 4,
  "nbformat_minor": 0,
  "metadata": {
    "colab": {
      "name": "case study",
      "provenance": []
    },
    "kernelspec": {
      "name": "python3",
      "display_name": "Python 3"
    }
  },
  "cells": [
    {
      "cell_type": "code",
      "metadata": {
        "id": "n44KcHszMKD3",
        "colab_type": "code",
        "colab": {}
      },
      "source": [
        "import matplotlib.pyplot as plt\n",
        "import pandas as pd\n",
        "import numpy as np"
      ],
      "execution_count": null,
      "outputs": []
    },
    {
      "cell_type": "code",
      "metadata": {
        "id": "MggYN6N7NiML",
        "colab_type": "code",
        "colab": {}
      },
      "source": [
        "data=pd.read_csv('/content/COVID-19-geographic-disbtribution-worldwide-2020-08-02.csv')"
      ],
      "execution_count": null,
      "outputs": []
    },
    {
      "cell_type": "code",
      "metadata": {
        "id": "g5uQhIqON9Ri",
        "colab_type": "code",
        "colab": {
          "base_uri": "https://localhost:8080/",
          "height": 115
        },
        "outputId": "8c745db1-0a5b-432c-ccbb-a625bc4aeac9"
      },
      "source": [
        "data.head(1)"
      ],
      "execution_count": null,
      "outputs": [
        {
          "output_type": "execute_result",
          "data": {
            "text/html": [
              "<div>\n",
              "<style scoped>\n",
              "    .dataframe tbody tr th:only-of-type {\n",
              "        vertical-align: middle;\n",
              "    }\n",
              "\n",
              "    .dataframe tbody tr th {\n",
              "        vertical-align: top;\n",
              "    }\n",
              "\n",
              "    .dataframe thead th {\n",
              "        text-align: right;\n",
              "    }\n",
              "</style>\n",
              "<table border=\"1\" class=\"dataframe\">\n",
              "  <thead>\n",
              "    <tr style=\"text-align: right;\">\n",
              "      <th></th>\n",
              "      <th>dateRep</th>\n",
              "      <th>day</th>\n",
              "      <th>month</th>\n",
              "      <th>year</th>\n",
              "      <th>cases</th>\n",
              "      <th>deaths</th>\n",
              "      <th>countriesAndTerritories</th>\n",
              "      <th>geoId</th>\n",
              "      <th>countryterritoryCode</th>\n",
              "      <th>popData2019</th>\n",
              "      <th>continentExp</th>\n",
              "      <th>Cumulative_number_for_14_days_of_COVID-19_cases_per_100000</th>\n",
              "    </tr>\n",
              "  </thead>\n",
              "  <tbody>\n",
              "    <tr>\n",
              "      <th>0</th>\n",
              "      <td>02/08/2020</td>\n",
              "      <td>2</td>\n",
              "      <td>8</td>\n",
              "      <td>2020</td>\n",
              "      <td>0</td>\n",
              "      <td>0</td>\n",
              "      <td>Afghanistan</td>\n",
              "      <td>AF</td>\n",
              "      <td>AFG</td>\n",
              "      <td>38041757.0</td>\n",
              "      <td>Asia</td>\n",
              "      <td>3.703825</td>\n",
              "    </tr>\n",
              "  </tbody>\n",
              "</table>\n",
              "</div>"
            ],
            "text/plain": [
              "      dateRep  ...  Cumulative_number_for_14_days_of_COVID-19_cases_per_100000\n",
              "0  02/08/2020  ...                                           3.703825         \n",
              "\n",
              "[1 rows x 12 columns]"
            ]
          },
          "metadata": {
            "tags": []
          },
          "execution_count": 80
        }
      ]
    },
    {
      "cell_type": "markdown",
      "metadata": {
        "id": "o2Sj2X8_myBb",
        "colab_type": "text"
      },
      "source": [
        "Data of used for visualizaiont is taken from Kaggle.\n",
        "\n"
      ]
    },
    {
      "cell_type": "markdown",
      "metadata": {
        "id": "yq-kFKlzoIXS",
        "colab_type": "text"
      },
      "source": [
        "**World-wide spread:**\n"
      ]
    },
    {
      "cell_type": "code",
      "metadata": {
        "id": "1xSS8bZJrLhl",
        "colab_type": "code",
        "colab": {}
      },
      "source": [
        "#importing data: \n",
        "#source: https://www.kaggle.com/hgultekin/covid19-coronavirus-dataset?select=COVID-19-geographic-disbtribution-worldwide-2020-08-08.csv\n",
        "data=pd.read_csv('/content/COVID-19-geographic-disbtribution-worldwide-2020-08-02.csv')\n",
        "\n",
        "#adding custom column 'active case'\n",
        "data['active case']=data['cases']-data['deaths']\n",
        "\n",
        "#the data contain data from 2019 and 2020 so months greater that current one will be of 2019 hence removing them from graph\n",
        "data=data[data['month']<9]\n"
      ],
      "execution_count": null,
      "outputs": []
    },
    {
      "cell_type": "markdown",
      "metadata": {
        "id": "twSqhLYLqFea",
        "colab_type": "text"
      },
      "source": [
        "Below scatter plot shows world wide spread of covid and deaths per month.\n"
      ]
    },
    {
      "cell_type": "code",
      "metadata": {
        "id": "BkYmh9Bsul_k",
        "colab_type": "code",
        "colab": {
          "base_uri": "https://localhost:8080/",
          "height": 265
        },
        "outputId": "375967d2-6413-4d54-e960-51d094c4023c"
      },
      "source": [
        "plt.scatter(data['month'],data['cases'],label='cases of covid')\n",
        "plt.scatter(data['month'],data['deaths'],label='deaths due covid')\n",
        "plt.legend()\n",
        "plt.show()"
      ],
      "execution_count": null,
      "outputs": [
        {
          "output_type": "display_data",
          "data": {
            "image/png": "[encoded data removed]",
            "text/plain": [
              "<Figure size 432x288 with 1 Axes>"
            ]
          },
          "metadata": {
            "tags": [],
            "needs_background": "light"
          }
        }
      ]
    },
    {
      "cell_type": "markdown",
      "metadata": {
        "id": "U_Vv5N6o4A0G",
        "colab_type": "text"
      },
      "source": [
        "**TOP 10 countris on based on confirmed cases.**\n",
        "\n",
        "Note: values on x axis are in range of 1e6(10 to the power 6)"
      ]
    },
    {
      "cell_type": "code",
      "metadata": {
        "id": "rO6zm97axb8L",
        "colab_type": "code",
        "colab": {
          "base_uri": "https://localhost:8080/",
          "height": 278
        },
        "outputId": "e0886ea5-cd82-444d-efeb-974ab32a82f4"
      },
      "source": [
        "# sourse: Kaggle\n",
        "data1=pd.read_csv('/content/country_wise.csv')\n",
        "\n",
        "#orderging by confirmed cases and selecting top 10 \n",
        "data1.sort_values(['Confirmed'],ascending=False,inplace=True)\n",
        "data1=data1.head(10)\n",
        "\n",
        "#setting values\n",
        "list_of_countries=data1['Country/Region']\n",
        "activeCase=data1['Confirmed']\n",
        "\n",
        "#creating figure and axis object \n",
        "fig, ax = plt.subplots()\n",
        "#plotting h-bar\n",
        "ax.barh(list_of_countries,activeCase)\n",
        "ax.invert_yaxis()\n",
        "plt.show()"
      ],
      "execution_count": null,
      "outputs": [
        {
          "output_type": "display_data",
          "data": {
            "image/png": "[encoded data removed]",
            "text/plain": [
              "<Figure size 432x288 with 1 Axes>"
            ]
          },
          "metadata": {
            "tags": [],
            "needs_background": "light"
          }
        }
      ]
    }
  ]
}